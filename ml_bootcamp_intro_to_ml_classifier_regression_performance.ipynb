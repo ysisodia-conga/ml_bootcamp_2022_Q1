{
 "cells": [
  {
   "cell_type": "markdown",
   "id": "095e8c67",
   "metadata": {},
   "source": [
    "## Conga Machine Learning - Performance Metrices"
   ]
  },
  {
   "cell_type": "markdown",
   "id": "ceb24251",
   "metadata": {},
   "source": [
    "<ul> Classifier Performance Metrices </ul>\n",
    "\n",
    "<ul> Grid Search </ul>\n",
    "\n",
    "<ul> Other Topics - MultiLabel </ul>\n",
    "\n",
    "<ul> Regression and Overfitting Example </ul>\n"
   ]
  },
  {
   "cell_type": "code",
   "execution_count": null,
   "id": "2635ff01",
   "metadata": {},
   "outputs": [],
   "source": [
    "import pandas as pd\n",
    "import numpy as np\n",
    "import random\n",
    "from pprint import pprint\n",
    "### For Reproducibility\n",
    "RANDOM_SEED = 11111\n",
    "np.random.seed(RANDOM_SEED)\n",
    "random.seed(RANDOM_SEED)"
   ]
  },
  {
   "cell_type": "code",
   "execution_count": null,
   "id": "507a31a6",
   "metadata": {},
   "outputs": [],
   "source": [
    "sample_json = [ {'target': 0, 'feature1': 0.035, 'feature2': 0} , {'target': 0, 'feature1': 0.175, 'feature2': 4} , {'target': 0, 'feature1': 0.416, 'feature2': 4} , {'target': 0, 'feature1': 0.355, 'feature2': 0} , {'target': 0, 'feature1': 0.241, 'feature2': 4} , {'target': 0, 'feature1': 0.429, 'feature2': 2} , {'target': 0, 'feature1': 0.44, 'feature2': 4} , {'target': 0, 'feature1': 0.068, 'feature2': 0} , {'target': 0, 'feature1': 0.472, 'feature2': 5} , {'target': 0, 'feature1': 0.121, 'feature2': 2} , {'target': 0, 'feature1': 0.276, 'feature2': 2} , {'target': 0, 'feature1': 0.348, 'feature2': 0} , {'target': 0, 'feature1': 0.091, 'feature2': 5} , {'target': 0, 'feature1': 0.313, 'feature2': 3} , {'target': 0, 'feature1': 0.028, 'feature2': 3} , {'target': 0, 'feature1': 0.205, 'feature2': 1} , {'target': 0, 'feature1': 0.353, 'feature2': 3} , {'target': 0, 'feature1': 0.15, 'feature2': 5} , {'target': 0, 'feature1': 0.378, 'feature2': 0} , {'target': 0, 'feature1': 0.22, 'feature2': 3} , {'target': 0, 'feature1': 0.325, 'feature2': 3} , {'target': 0, 'feature1': 0.088, 'feature2': 3} , {'target': 0, 'feature1': 0.018, 'feature2': 3} , {'target': 0, 'feature1': 0.108, 'feature2': 1} , {'target': 0, 'feature1': 0.143, 'feature2': 0} , {'target': 0, 'feature1': 0.41, 'feature2': 0} , {'target': 0, 'feature1': 0.374, 'feature2': 3} , {'target': 0, 'feature1': 0.12, 'feature2': 0} , {'target': 0, 'feature1': 0.03, 'feature2': 1} , {'target': 0, 'feature1': 0.448, 'feature2': 1} , {'target': 0, 'feature1': 0.464, 'feature2': 3} , {'target': 0, 'feature1': 0.004, 'feature2': 3} , {'target': 0, 'feature1': 0.454, 'feature2': 3} , {'target': 0, 'feature1': 0.971, 'feature2': 9} , {'target': 0, 'feature1': 0.93, 'feature2': 9} , {'target': 0, 'feature1': 0.37, 'feature2': 3} , {'target': 0, 'feature1': 0.467, 'feature2': 2} , {'target': 0, 'feature1': 0.272, 'feature2': 4} , {'target': 0, 'feature1': 0.092, 'feature2': 0} , {'target': 0, 'feature1': 0.009, 'feature2': 3} , {'target': 0, 'feature1': 0.423, 'feature2': 3} , {'target': 0, 'feature1': 0.392, 'feature2': 1} , {'target': 0, 'feature1': 0.496, 'feature2': 5} , {'target': 0, 'feature1': 0.068, 'feature2': 4} , {'target': 0, 'feature1': 0.117, 'feature2': 5} , {'target': 0, 'feature1': 0.563, 'feature2': 9} , {'target': 0, 'feature1': 0.348, 'feature2': 2} , {'target': 0, 'feature1': 0.952, 'feature2': 9} , {'target': 0, 'feature1': 0.446, 'feature2': 2} , {'target': 0, 'feature1': 0.454, 'feature2': 1} , {'target': 0, 'feature1': 0.46, 'feature2': 2} , {'target': 0, 'feature1': 0.244, 'feature2': 1} , {'target': 0, 'feature1': 0.107, 'feature2': 3} , {'target': 0, 'feature1': 0.065, 'feature2': 0} , {'target': 0, 'feature1': 0.358, 'feature2': 0} , {'target': 0, 'feature1': 0.298, 'feature2': 3} , {'target': 0, 'feature1': 0.018, 'feature2': 1} , {'target': 0, 'feature1': 0.487, 'feature2': 0} , {'target': 0, 'feature1': 0.228, 'feature2': 4} , {'target': 0, 'feature1': 0.499, 'feature2': 1} , {'target': 0, 'feature1': 0.133, 'feature2': 5} , {'target': 0, 'feature1': 0.341, 'feature2': 5} , {'target': 0, 'feature1': 0.304, 'feature2': 4} , {'target': 0, 'feature1': 0.367, 'feature2': 2} , {'target': 0, 'feature1': 0.372, 'feature2': 5} , {'target': 0, 'feature1': 0.11, 'feature2': 5} , {'target': 0, 'feature1': 0.168, 'feature2': 0} , {'target': 0, 'feature1': 0.109, 'feature2': 3} , {'target': 0, 'feature1': 0.419, 'feature2': 3} , {'target': 0, 'feature1': 0.289, 'feature2': 3} , {'target': 0, 'feature1': 0.384, 'feature2': 5} , {'target': 0, 'feature1': 0.289, 'feature2': 5} , {'target': 0, 'feature1': 0.103, 'feature2': 2} , {'target': 0, 'feature1': 0.924, 'feature2': 0} , {'target': 0, 'feature1': 0.308, 'feature2': 3} , {'target': 0, 'feature1': 0.927, 'feature2': 8} , {'target': 0, 'feature1': 0.006, 'feature2': 3} , {'target': 0, 'feature1': 0.206, 'feature2': 4} , {'target': 0, 'feature1': 0.968, 'feature2': 10} , {'target': 0, 'feature1': 0.389, 'feature2': 9} , {'target': 0, 'feature1': 0.098, 'feature2': 2} , {'target': 0, 'feature1': 0.153, 'feature2': 1} , {'target': 0, 'feature1': 0.037, 'feature2': 4} , {'target': 0, 'feature1': 0.442, 'feature2': 5} , {'target': 0, 'feature1': 0.987, 'feature2': 1} , {'target': 0, 'feature1': 0.267, 'feature2': 5} , {'target': 0, 'feature1': 0.496, 'feature2': 0} , {'target': 0, 'feature1': 0.005, 'feature2': 4} , {'target': 0, 'feature1': 0.857, 'feature2': 5} , {'target': 0, 'feature1': 0.257, 'feature2': 2} , {'target': 0, 'feature1': 0.205, 'feature2': 0} , {'target': 0, 'feature1': 0.93, 'feature2': 9} , {'target': 0, 'feature1': 0.767, 'feature2': 8} , {'target': 0, 'feature1': 0.4, 'feature2': 3} , {'target': 0, 'feature1': 0.439, 'feature2': 3} , {'target': 0, 'feature1': 0.165, 'feature2': 1} , {'target': 0, 'feature1': 0.244, 'feature2': 5} , {'target': 0, 'feature1': 0.32, 'feature2': 0} , {'target': 0, 'feature1': 0.042, 'feature2': 5} , {'target': 0, 'feature1': 0.046, 'feature2': 0} , {'target': 1, 'feature1': 0.249, 'feature2': 7} , {'target': 1, 'feature1': 0.517, 'feature2': 8} , {'target': 1, 'feature1': 0.818, 'feature2': 7} , {'target': 1, 'feature1': 0.583, 'feature2': 9} , {'target': 1, 'feature1': 0.875, 'feature2': 7} , {'target': 1, 'feature1': 0.746, 'feature2': 7} , {'target': 1, 'feature1': 0.844, 'feature2': 6} , {'target': 1, 'feature1': 0.737, 'feature2': 6} , {'target': 1, 'feature1': 0.736, 'feature2': 6} , {'target': 1, 'feature1': 0.602, 'feature2': 5} ]\n",
    "df = pd.DataFrame(sample_json)\n",
    "df.head(2)"
   ]
  },
  {
   "cell_type": "code",
   "execution_count": null,
   "id": "3123225a",
   "metadata": {},
   "outputs": [],
   "source": [
    "df.groupby(\"target\").count()"
   ]
  },
  {
   "cell_type": "code",
   "execution_count": null,
   "id": "86f878b9",
   "metadata": {},
   "outputs": [],
   "source": [
    "df.groupby(\"target\").mean()"
   ]
  },
  {
   "cell_type": "code",
   "execution_count": null,
   "id": "d65623b1",
   "metadata": {},
   "outputs": [],
   "source": [
    "from sklearn.model_selection import train_test_split\n",
    "X_train,X_test,y_train,y_test = train_test_split(df[['feature1','feature2']],df[['target']],test_size=0.2)\n",
    "print(X_train.shape,X_test.shape)"
   ]
  },
  {
   "cell_type": "code",
   "execution_count": null,
   "id": "c23e3876",
   "metadata": {},
   "outputs": [],
   "source": [
    "X_train.head(5)"
   ]
  },
  {
   "cell_type": "code",
   "execution_count": null,
   "id": "3b4346ae",
   "metadata": {},
   "outputs": [],
   "source": [
    "X_test.head(5)"
   ]
  },
  {
   "cell_type": "code",
   "execution_count": null,
   "id": "21e88006",
   "metadata": {},
   "outputs": [],
   "source": [
    "y_train.head(5)"
   ]
  },
  {
   "cell_type": "code",
   "execution_count": null,
   "id": "f5adbab8",
   "metadata": {},
   "outputs": [],
   "source": [
    "y_test.head(5)"
   ]
  },
  {
   "cell_type": "markdown",
   "id": "d3fcc322",
   "metadata": {},
   "source": [
    "<a href=\"https://scikit-learn.org/stable/modules/generated/sklearn.ensemble.RandomForestClassifier.html\">scikitlearn randomForestclassifier</a>"
   ]
  },
  {
   "cell_type": "code",
   "execution_count": null,
   "id": "bd3fa6d8",
   "metadata": {},
   "outputs": [],
   "source": [
    "from sklearn.ensemble import RandomForestClassifier\n",
    "clf = RandomForestClassifier(random_state=RANDOM_SEED)\n",
    "clf = clf.fit(X_train, y_train['target'].ravel())"
   ]
  },
  {
   "cell_type": "markdown",
   "id": "c1f1b431",
   "metadata": {},
   "source": [
    "## predict vs predict_proba"
   ]
  },
  {
   "cell_type": "code",
   "execution_count": null,
   "id": "c34e898f",
   "metadata": {},
   "outputs": [],
   "source": [
    "y_pred = clf.predict(X_test)\n",
    "y_pred"
   ]
  },
  {
   "cell_type": "code",
   "execution_count": null,
   "id": "c2558473",
   "metadata": {},
   "outputs": [],
   "source": [
    "y_pred_prob = clf.predict_proba(X_test)\n",
    "y_pred_prob"
   ]
  },
  {
   "cell_type": "code",
   "execution_count": null,
   "id": "b0110ffe",
   "metadata": {},
   "outputs": [],
   "source": [
    "from sklearn.metrics import confusion_matrix\n",
    "print(confusion_matrix(y_test, y_pred))\n",
    "\n",
    "tn, fp, fn, tp = confusion_matrix(y_test, y_pred).ravel()\n",
    "print(\"tp tn :: \", tp,\"\\t\",tn)"
   ]
  },
  {
   "cell_type": "code",
   "execution_count": null,
   "id": "f5586939",
   "metadata": {},
   "outputs": [],
   "source": [
    "from sklearn.metrics import classification_report\n",
    "print(classification_report(y_test, y_pred))"
   ]
  },
  {
   "cell_type": "code",
   "execution_count": null,
   "id": "cd25582e",
   "metadata": {},
   "outputs": [],
   "source": [
    "from sklearn.metrics import accuracy_score\n",
    "print(accuracy_score(y_test, y_pred))"
   ]
  },
  {
   "cell_type": "code",
   "execution_count": null,
   "id": "d18242d5",
   "metadata": {},
   "outputs": [],
   "source": [
    "from sklearn.metrics import balanced_accuracy_score\n",
    "print(balanced_accuracy_score(y_test, y_pred))"
   ]
  },
  {
   "cell_type": "markdown",
   "id": "e4c36482",
   "metadata": {},
   "source": [
    "\n",
    "micro: Calculate metrics globally by counting the total true positives, false negatives and false positives.\n",
    "\n",
    "macro:Calculate metrics for each label, and find their unweighted mean. This does not take label imbalance into account.\n",
    "\n",
    "weighted:Calculate metrics for each label, and find their average weighted by support (the number of true instances for each label). This alters ‘macro’ to account for label imbalance; it can result in an F-score that is not between precision and recall.\n"
   ]
  },
  {
   "cell_type": "code",
   "execution_count": null,
   "id": "39907f8e",
   "metadata": {},
   "outputs": [],
   "source": [
    "from sklearn.metrics import precision_score\n",
    "print(precision_score(y_test, y_pred, average='macro'))\n",
    "print(precision_score(y_test, y_pred, average='micro'))\n",
    "print(precision_score(y_test, y_pred, average='weighted'))"
   ]
  },
  {
   "cell_type": "code",
   "execution_count": null,
   "id": "37619ad6",
   "metadata": {},
   "outputs": [],
   "source": [
    "from sklearn.metrics import recall_score\n",
    "print(recall_score(y_test, y_pred, average='macro'))\n",
    "print(recall_score(y_test, y_pred, average='micro'))\n",
    "print(recall_score(y_test, y_pred, average='weighted'))"
   ]
  },
  {
   "cell_type": "code",
   "execution_count": null,
   "id": "3b1e6888",
   "metadata": {},
   "outputs": [],
   "source": [
    "from sklearn.metrics import matthews_corrcoef\n",
    "print(matthews_corrcoef(y_test, y_pred))"
   ]
  },
  {
   "cell_type": "markdown",
   "id": "0fd588d4",
   "metadata": {},
   "source": [
    "from sklearn.metrics import PrecisionRecallDisplay\n",
    "\n",
    "display = PrecisionRecallDisplay.from_estimator(\n",
    "    clf, X_test, y_test, name=\"RF\"\n",
    ")\n",
    "_ = display.ax_.set_title(\"2-class Precision-Recall curve\")"
   ]
  },
  {
   "cell_type": "code",
   "execution_count": null,
   "id": "5ab00d43",
   "metadata": {},
   "outputs": [],
   "source": [
    "from sklearn import datasets, metrics\n",
    "import matplotlib.pyplot as plt\n",
    "fpr, tpr, thresholds = metrics.roc_curve(y_test, y_pred)\n",
    "roc_auc = metrics.auc(fpr, tpr)\n",
    "display = metrics.RocCurveDisplay(fpr=fpr, tpr=tpr, roc_auc=roc_auc,estimator_name='Our RandomForrest')\n",
    "display.plot()\n",
    "plt.show()"
   ]
  },
  {
   "cell_type": "markdown",
   "id": "224617e5",
   "metadata": {},
   "source": [
    "<a href=\"https://scikit-learn.org/stable/modules/model_evaluation.html\">scikitlearn performance metrices</a>"
   ]
  },
  {
   "cell_type": "markdown",
   "id": "2e7e2b9c",
   "metadata": {},
   "source": [
    "## Grid Search"
   ]
  },
  {
   "cell_type": "code",
   "execution_count": null,
   "id": "fc10f4c6",
   "metadata": {},
   "outputs": [],
   "source": [
    "from sklearn.model_selection import GridSearchCV\n",
    "# Create the parameter grid based on the results of random search \n",
    "param_grid = {\n",
    "    'bootstrap': [True],\n",
    "    'max_depth': [10, 100],\n",
    "    'max_features': [1, 2],\n",
    "    'n_estimators': [100, 1000]\n",
    "}\n",
    "# Create a based model\n",
    "rf = RandomForestClassifier()\n",
    "# Instantiate the grid search model\n",
    "grid_search = GridSearchCV(estimator = rf, param_grid = param_grid, cv = 3, n_jobs = -1, verbose = 2)\n",
    "\n",
    "# Fit the grid search to the data\n",
    "grid_search.fit(X_train, y_train['target'].ravel())\n",
    "print(grid_search.best_params_)\n"
   ]
  },
  {
   "cell_type": "code",
   "execution_count": null,
   "id": "e39c5d19",
   "metadata": {},
   "outputs": [],
   "source": [
    "clf = RandomForestClassifier(random_state=RANDOM_SEED,bootstrap=True,max_depth=10, max_features=2, n_estimators=100)\n",
    "clf = clf.fit(X_train, y_train['target'].ravel())\n",
    "y_pred = clf.predict(X_test)\n",
    "fpr, tpr, thresholds = metrics.roc_curve(y_test, y_pred)\n",
    "roc_auc = metrics.auc(fpr, tpr)\n",
    "display = metrics.RocCurveDisplay(fpr=fpr, tpr=tpr, roc_auc=roc_auc,estimator_name='Our RandomForrest Post Grid Search')\n",
    "display.plot()\n",
    "plt.show()"
   ]
  },
  {
   "cell_type": "markdown",
   "id": "1a1ec4c2",
   "metadata": {},
   "source": [
    "Binary , MultiClass and MultiLabel\n",
    "\n",
    "Postitive / negative Sentiment\n",
    "[{1,0},{1,0},{0,1}]\n",
    "\n",
    "CAT / DOG / MOUSE\n",
    "Market Conditions "
   ]
  },
  {
   "cell_type": "markdown",
   "id": "813474dd",
   "metadata": {},
   "source": [
    "<a href=\"https://scikit-learn.org/stable/modules/generated/sklearn.model_selection.GridSearchCV.html\">GridSearchCV</a>"
   ]
  },
  {
   "cell_type": "markdown",
   "id": "eb742787",
   "metadata": {},
   "source": [
    "## Regression"
   ]
  },
  {
   "cell_type": "code",
   "execution_count": null,
   "id": "8af75183",
   "metadata": {},
   "outputs": [],
   "source": [
    "from sklearn import datasets\n",
    "diabetes_X,diabetes_y = datasets.load_diabetes(return_X_y = True , as_frame = True)\n",
    "#the X,y data is converted to a dataframe and series respectively"
   ]
  },
  {
   "cell_type": "code",
   "execution_count": null,
   "id": "12a2113c",
   "metadata": {},
   "outputs": [],
   "source": [
    "diabetes_X.head(5)"
   ]
  },
  {
   "cell_type": "code",
   "execution_count": null,
   "id": "bdb0e8ef",
   "metadata": {},
   "outputs": [],
   "source": [
    "diabetes_y.head(5)"
   ]
  },
  {
   "cell_type": "code",
   "execution_count": null,
   "id": "871860fd",
   "metadata": {},
   "outputs": [],
   "source": [
    "from sklearn.model_selection import train_test_split\n",
    "X_train,X_test,y_train,y_test = train_test_split(diabetes_X,diabetes_y,test_size=0.2)\n",
    "print(X_train.shape,X_test.shape)"
   ]
  },
  {
   "cell_type": "code",
   "execution_count": null,
   "id": "1c68013c",
   "metadata": {},
   "outputs": [],
   "source": [
    "from sklearn.linear_model import LinearRegression\n",
    "from sklearn.metrics import mean_squared_error"
   ]
  },
  {
   "cell_type": "code",
   "execution_count": null,
   "id": "77ba11aa",
   "metadata": {},
   "outputs": [],
   "source": [
    "regr = LinearRegression()\n",
    "regr.fit(X_train, y_train)\n",
    "y_pred = regr.predict(X_test)\n",
    "mean_squared_error(y_test, y_pred)"
   ]
  },
  {
   "cell_type": "code",
   "execution_count": null,
   "id": "f3695a96",
   "metadata": {},
   "outputs": [],
   "source": [
    "model = LinearRegression()\n",
    "model.fit(X_train, y_train)\n",
    "y_pred = regr.predict(X_test)\n",
    "print(\"Train MSE\", mean_squared_error(y_train, model.predict(X_train)))\n",
    "print(\"Test MSE\", mean_squared_error(y_test, y_pred))"
   ]
  },
  {
   "cell_type": "markdown",
   "id": "a9ec82b1",
   "metadata": {},
   "source": [
    "Some State-Of-The-Art Libraries for Classification and Regression\n",
    "\n",
    "<a href=\"https://catboost.ai/\">CatBoost</a>\n",
    "\n",
    "<a href=\"https://lightgbm.readthedocs.io/en/latest/\">LightGBM</a>"
   ]
  },
  {
   "cell_type": "code",
   "execution_count": null,
   "id": "0fd947f3",
   "metadata": {},
   "outputs": [],
   "source": [
    "#!pip install catboost ipywidgets"
   ]
  },
  {
   "cell_type": "code",
   "execution_count": null,
   "id": "af07e4ea",
   "metadata": {},
   "outputs": [],
   "source": [
    "from catboost import CatBoostRegressor\n",
    "model = CatBoostRegressor()\n",
    "# Fit model\n",
    "model.fit(X_train, y_train)\n",
    "y_pred = model.predict(X_test)\n",
    "print(\"Train MSE\", mean_squared_error(y_train, model.predict(X_train)))\n",
    "print(\"Test MSE\", mean_squared_error(y_test, y_pred))"
   ]
  },
  {
   "cell_type": "code",
   "execution_count": null,
   "id": "32ebb2ed",
   "metadata": {},
   "outputs": [],
   "source": [
    "## Grid Search\n",
    "model = CatBoostRegressor()\n",
    "grid = {'learning_rate': [0.01, 0.1],'depth': [4, 10],'l2_leaf_reg': [1, 9]}\n",
    "grid_search_result = model.grid_search(grid,X=X_train,y=y_train,plot=False)"
   ]
  },
  {
   "cell_type": "code",
   "execution_count": null,
   "id": "16bff08d",
   "metadata": {},
   "outputs": [],
   "source": [
    "## Takeaway : Bad Results despite GridSearch (Overfitting)\n",
    "model.fit(X_train, y_train)\n",
    "y_pred = model.predict(X_test)\n",
    "print(\"Train MSE\", mean_squared_error(y_train, model.predict(X_train)))\n",
    "print(\"Test MSE\", mean_squared_error(y_test, y_pred))"
   ]
  },
  {
   "cell_type": "code",
   "execution_count": null,
   "id": "32d16cfb",
   "metadata": {},
   "outputs": [],
   "source": []
  }
 ],
 "metadata": {
  "kernelspec": {
   "display_name": "Python 3 (ipykernel)",
   "language": "python",
   "name": "python3"
  },
  "language_info": {
   "codemirror_mode": {
    "name": "ipython",
    "version": 3
   },
   "file_extension": ".py",
   "mimetype": "text/x-python",
   "name": "python",
   "nbconvert_exporter": "python",
   "pygments_lexer": "ipython3",
   "version": "3.8.12"
  }
 },
 "nbformat": 4,
 "nbformat_minor": 5
}
